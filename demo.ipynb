{
 "cells": [
  {
   "cell_type": "code",
   "execution_count": 17,
   "metadata": {},
   "outputs": [],
   "source": [
    "from finance_complaint.entity.config_entity import PredictionPipelineConfig"
   ]
  },
  {
   "cell_type": "code",
   "execution_count": 18,
   "metadata": {},
   "outputs": [],
   "source": [
    "prediction_pipeline_config = PredictionPipelineConfig()"
   ]
  },
  {
   "cell_type": "code",
   "execution_count": 19,
   "metadata": {},
   "outputs": [
    {
     "data": {
      "text/plain": [
       "{'input_dir': 'finance_data/input/finance_complaint',\n",
       " 'prediction_dir': 'finance_data/prediction/20230824_224454',\n",
       " 'failed_dir': 'finance_data/failed/20230824_224454',\n",
       " 'archive_dir': 'finance_data/archive/20230824_224454',\n",
       " 'region_name': 'ap-south-1'}"
      ]
     },
     "execution_count": 19,
     "metadata": {},
     "output_type": "execute_result"
    }
   ],
   "source": [
    "prediction_pipeline_config.__dict__"
   ]
  },
  {
   "cell_type": "code",
   "execution_count": 20,
   "metadata": {},
   "outputs": [],
   "source": [
    "from finance_complaint.constants.prediction_pipeline_config.file_config import S3_DATA_BUCKET_NAME"
   ]
  },
  {
   "cell_type": "code",
   "execution_count": 21,
   "metadata": {},
   "outputs": [
    {
     "data": {
      "text/plain": [
       "'finance.cat-service'"
      ]
     },
     "execution_count": 21,
     "metadata": {},
     "output_type": "execute_result"
    }
   ],
   "source": [
    "S3_DATA_BUCKET_NAME"
   ]
  },
  {
   "cell_type": "code",
   "execution_count": 22,
   "metadata": {},
   "outputs": [],
   "source": [
    "s3_file_path = \"s3n://finance.cat-service/finance_data/input/finance_complaint\""
   ]
  },
  {
   "cell_type": "code",
   "execution_count": 23,
   "metadata": {},
   "outputs": [],
   "source": [
    "file_path=\"/config/workspace/finance_artifact/data_ingestion/feature_store/finance_complaint\""
   ]
  },
  {
   "cell_type": "code",
   "execution_count": 24,
   "metadata": {},
   "outputs": [],
   "source": [
    "from finance_complaint.config.spark_manager import spark_session"
   ]
  },
  {
   "cell_type": "code",
   "execution_count": 25,
   "metadata": {},
   "outputs": [],
   "source": [
    "df = spark_session.read.parquet(file_path).limit(10000)"
   ]
  },
  {
   "cell_type": "code",
   "execution_count": 26,
   "metadata": {},
   "outputs": [
    {
     "name": "stderr",
     "output_type": "stream",
     "text": [
      "                                                                                \r"
     ]
    },
    {
     "data": {
      "text/plain": [
       "10000"
      ]
     },
     "execution_count": 26,
     "metadata": {},
     "output_type": "execute_result"
    }
   ],
   "source": [
    "df.count()"
   ]
  },
  {
   "cell_type": "code",
   "execution_count": 27,
   "metadata": {},
   "outputs": [],
   "source": [
    "from finance_complaint.ml.estimator import S3FinanceEstimator"
   ]
  },
  {
   "cell_type": "code",
   "execution_count": 28,
   "metadata": {},
   "outputs": [],
   "source": [
    "from finance_complaint.constants.model import S3_MODEL_BUCKET_NAME, S3_MODEL_DIR_KEY"
   ]
  },
  {
   "cell_type": "code",
   "execution_count": 29,
   "metadata": {},
   "outputs": [
    {
     "data": {
      "text/plain": [
       "('finance.cat-service', 'model-registry')"
      ]
     },
     "execution_count": 29,
     "metadata": {},
     "output_type": "execute_result"
    }
   ],
   "source": [
    "S3_MODEL_BUCKET_NAME,S3_MODEL_DIR_KEY"
   ]
  },
  {
   "cell_type": "code",
   "execution_count": 30,
   "metadata": {},
   "outputs": [
    {
     "name": "stdout",
     "output_type": "stream",
     "text": [
      "Existing buckets:\n"
     ]
    }
   ],
   "source": [
    "estimator = S3FinanceEstimator(bucket_name=S3_MODEL_BUCKET_NAME, s3_key=S3_MODEL_DIR_KEY)"
   ]
  },
  {
   "cell_type": "code",
   "execution_count": 31,
   "metadata": {},
   "outputs": [
    {
     "name": "stdout",
     "output_type": "stream",
     "text": [
      "{'inputCols': None, 'outputCols': None}\n"
     ]
    }
   ],
   "source": [
    "df = estimator.transform(df)"
   ]
  },
  {
   "cell_type": "code",
   "execution_count": 32,
   "metadata": {},
   "outputs": [
    {
     "name": "stderr",
     "output_type": "stream",
     "text": [
      "[Stage 111:=========================================>             (18 + 6) / 24]\r"
     ]
    },
    {
     "name": "stdout",
     "output_type": "stream",
     "text": [
      "+---------------------+-------------+-----------+----------+----------------------------+-----------------+\n",
      "|scaled_input_features|rawPrediction|probability|prediction|prediction_consumer_disputed|consumer_disputed|\n",
      "+---------------------+-------------+-----------+----------+----------------------------+-----------------+\n",
      "| (53,[2,7,9,12,29,...|       [20.0]|      [1.0]|       0.0|                         N/A|              N/A|\n",
      "| (53,[0,4,8,23,24,...|       [20.0]|      [1.0]|       0.0|                         N/A|              N/A|\n",
      "| (53,[0,4,8,19,22,...|       [20.0]|      [1.0]|       0.0|                         N/A|              N/A|\n",
      "| (53,[1,4,8,26,28,...|       [20.0]|      [1.0]|       0.0|                         N/A|              N/A|\n",
      "| (53,[2,4,8,26,28,...|       [20.0]|      [1.0]|       0.0|                         N/A|              N/A|\n",
      "| (53,[3,5,8,16,18,...|       [20.0]|      [1.0]|       0.0|                         N/A|              N/A|\n",
      "| (53,[0,4,8,19,23,...|       [20.0]|      [1.0]|       0.0|                         N/A|              N/A|\n",
      "| (53,[1,4,8,29,35,...|       [20.0]|      [1.0]|       0.0|                         N/A|              N/A|\n",
      "| (53,[1,6,8,29,35,...|       [20.0]|      [1.0]|       0.0|                         N/A|              N/A|\n",
      "| (53,[1,4,8,29,35,...|       [20.0]|      [1.0]|       0.0|                         N/A|              N/A|\n",
      "| (53,[1,4,8,29,35,...|       [20.0]|      [1.0]|       0.0|                         N/A|              N/A|\n",
      "| (53,[1,4,8,26,28,...|       [20.0]|      [1.0]|       0.0|                         N/A|              N/A|\n",
      "| (53,[1,4,8,26,28,...|       [20.0]|      [1.0]|       0.0|                         N/A|              N/A|\n",
      "| (53,[1,4,8,26,28,...|       [20.0]|      [1.0]|       0.0|                         N/A|              N/A|\n",
      "| (53,[1,4,8,29,35,...|       [20.0]|      [1.0]|       0.0|                         N/A|              N/A|\n",
      "| (53,[1,4,8,23,24,...|       [20.0]|      [1.0]|       0.0|                         N/A|              N/A|\n",
      "| (53,[1,4,8,23,24,...|       [20.0]|      [1.0]|       0.0|                         N/A|              N/A|\n",
      "| (53,[0,4,8,23,24,...|       [20.0]|      [1.0]|       0.0|                         N/A|              N/A|\n",
      "| (53,[2,4,8,26,28,...|       [20.0]|      [1.0]|       0.0|                         N/A|              N/A|\n",
      "| (53,[1,4,8,29,35,...|       [20.0]|      [1.0]|       0.0|                         N/A|              N/A|\n",
      "+---------------------+-------------+-----------+----------+----------------------------+-----------------+\n",
      "only showing top 20 rows\n",
      "\n"
     ]
    },
    {
     "name": "stderr",
     "output_type": "stream",
     "text": [
      "                                                                                \r"
     ]
    }
   ],
   "source": [
    "df.select([ 'scaled_input_features',\n",
    " 'rawPrediction',\n",
    " 'probability',\n",
    " 'prediction',\n",
    " 'prediction_consumer_disputed','consumer_disputed']).show()"
   ]
  },
  {
   "cell_type": "code",
   "execution_count": null,
   "metadata": {},
   "outputs": [],
   "source": []
  }
 ],
 "metadata": {
  "kernelspec": {
   "display_name": "Python 3.8.10 64-bit",
   "language": "python",
   "name": "python3"
  },
  "language_info": {
   "codemirror_mode": {
    "name": "ipython",
    "version": 3
   },
   "file_extension": ".py",
   "mimetype": "text/x-python",
   "name": "python",
   "nbconvert_exporter": "python",
   "pygments_lexer": "ipython3",
   "version": "3.8.10"
  },
  "orig_nbformat": 4,
  "vscode": {
   "interpreter": {
    "hash": "e7370f93d1d0cde622a1f8e1c04877d8463912d04d973331ad4851f04de6915a"
   }
  }
 },
 "nbformat": 4,
 "nbformat_minor": 2
}
